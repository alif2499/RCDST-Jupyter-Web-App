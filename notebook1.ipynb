{
 "cells": [
  {
   "cell_type": "code",
   "execution_count": 97,
   "id": "c2697664",
   "metadata": {},
   "outputs": [],
   "source": [
    "# !jupyter nbextension enable --py widgetsnbextension --sys-prefix"
   ]
  },
  {
   "cell_type": "code",
   "execution_count": 98,
   "id": "9620c4d3",
   "metadata": {},
   "outputs": [],
   "source": [
    "# !jupyter serverextension enable voila --sys-prefix"
   ]
  },
  {
   "cell_type": "code",
   "execution_count": 121,
   "id": "076f4536",
   "metadata": {},
   "outputs": [],
   "source": [
    "import ipywidgets as widgets\n",
    "from IPython.display import display, Javascript, Markdown, clear_output, HTML"
   ]
  },
  {
   "cell_type": "code",
   "execution_count": 133,
   "id": "c9f0e3cc",
   "metadata": {},
   "outputs": [],
   "source": [
    "# Image Widget\n",
    "\n",
    "file = open(\"logo.png\", \"rb\")\n",
    "image = file.read()\n",
    "\n",
    "image_headline = widgets.Image(\n",
    "                    value=image,\n",
    "                    format='jpg',\n",
    "                    width='200'\n",
    "                )\n",
    "\n",
    "label_headline = widgets.Label(\n",
    "                    value='',\n",
    "                    style={'description_width': 'initial'}\n",
    "                )\n",
    "\n",
    "vbox_headline = widgets.VBox([image_headline, label_headline])"
   ]
  },
  {
   "cell_type": "code",
   "execution_count": 123,
   "id": "aa93752b",
   "metadata": {},
   "outputs": [],
   "source": [
    "# Question 1----------------\n",
    "question1 = \"What is the capital of France?\"\n",
    "options1 = [\"Paris\", \"London\", \"Berlin\", \"Rome\"]"
   ]
  },
  {
   "cell_type": "code",
   "execution_count": 124,
   "id": "091899f4",
   "metadata": {},
   "outputs": [],
   "source": [
    "# Display question and options as widgets-------\n",
    "question_widget1 = widgets.HTML(value=f\"<h3>{question1}</h3>\")\n",
    "options_widget1 = widgets.RadioButtons(options=options1, value = None, layout={'width': 'max-content'})"
   ]
  },
  {
   "cell_type": "code",
   "execution_count": 125,
   "id": "009bc876",
   "metadata": {},
   "outputs": [],
   "source": [
    "# Create a button to go to the next question--------\n",
    "next_button = widgets.Button(description=\"Submit\")"
   ]
  },
  {
   "cell_type": "code",
   "execution_count": 126,
   "id": "a27ac32b",
   "metadata": {},
   "outputs": [],
   "source": [
    "choice = widgets.Text(description = \"selected: \")"
   ]
  },
  {
   "cell_type": "code",
   "execution_count": 130,
   "id": "747df9a0",
   "metadata": {},
   "outputs": [],
   "source": [
    "output = widgets.Output()\n",
    "def on_button_clicked(event):\n",
    "    with output:\n",
    "        clear_output()\n",
    "        global selected_option1\n",
    "        link = \"Submit your answer for next question\"\n",
    "        selected_option1 = options_widget1.value\n",
    "        if not selected_option1:\n",
    "            choice.value = \"Not selected\"\n",
    "        else:\n",
    "            choice.value = selected_option1\n",
    "        if selected_option1 == \"Paris\":\n",
    "            link = Markdown(\"[Next](notebook2.ipynb)\")\n",
    "            # display(Javascript('window.location.href = \"dummy2.ipynb\";'))\n",
    "        elif selected_option1 == \"London\":\n",
    "            link = Markdown(\"[Next](notebook3.ipynb)\")\n",
    "            # display(Javascript('window.location.href = \"dummy3.ipynb\";'))\n",
    "        elif selected_option1 == \"Berlin\":\n",
    "            link = Markdown(\"[Next](https://www.google.com)\")\n",
    "            # display(Javascript('window.location.href = \"https://www.google.com\";'))\n",
    "        elif selected_option1 == \"Rome\":\n",
    "            link = Markdown(\"[Next](https://voila.readthedocs.io/en/stable/deploy.html)\")\n",
    "        %store selected_option1\n",
    "        display(link)\n",
    "        \n",
    "next_button.on_click(on_button_clicked)\n",
    "# vbox_result = widgets.VBox([question_widget1, options_widget1, next_button, output, choice])"
   ]
  },
  {
   "cell_type": "code",
   "execution_count": 131,
   "id": "a448edb4",
   "metadata": {},
   "outputs": [],
   "source": [
    "# display(vbox_result)"
   ]
  },
  {
   "cell_type": "code",
   "execution_count": 134,
   "id": "50740d73",
   "metadata": {},
   "outputs": [
    {
     "data": {
      "application/vnd.jupyter.widget-view+json": {
       "model_id": "411f0ddd55a34337b0e41d4705e36a8d",
       "version_major": 2,
       "version_minor": 0
      },
      "text/plain": [
       "VBox(children=(Image(value=b'\\x89PNG\\r\\n\\x1a\\n\\x00\\x00\\x00\\rIHDR\\x00\\x00\\x01\\xfb\\x00\\x00\\x01|\\x08\\x06\\x00\\x00\\…"
      ]
     },
     "metadata": {},
     "output_type": "display_data"
    },
    {
     "data": {
      "application/vnd.jupyter.widget-view+json": {
       "model_id": "48cb2ba3c1514857a418389b89d59f80",
       "version_major": 2,
       "version_minor": 0
      },
      "text/plain": [
       "VBox(children=(HTML(value='<h3>What is the capital of France?</h3>'), RadioButtons(index=2, layout=Layout(widt…"
      ]
     },
     "metadata": {},
     "output_type": "display_data"
    }
   ],
   "source": [
    "# Apply center alignment using CSS styling to the container\n",
    "container = widgets.VBox(children=[question_widget1, options_widget1, next_button, output, choice], layout=widgets.Layout(\n",
    "    align_items='center'  # Center align vertically\n",
    "#     justify_content='center',  # Center align horizontally\n",
    "#     height='100vh'  # Set height to 100% of viewport height for vertical centering\n",
    "))\n",
    "# Display the container\n",
    "display(vbox_headline)\n",
    "display(container)"
   ]
  },
  {
   "cell_type": "code",
   "execution_count": null,
   "id": "db8ce473",
   "metadata": {},
   "outputs": [],
   "source": []
  }
 ],
 "metadata": {
  "kernelspec": {
   "display_name": "Python 3 (ipykernel)",
   "language": "python",
   "name": "python3"
  },
  "language_info": {
   "codemirror_mode": {
    "name": "ipython",
    "version": 3
   },
   "file_extension": ".py",
   "mimetype": "text/x-python",
   "name": "python",
   "nbconvert_exporter": "python",
   "pygments_lexer": "ipython3",
   "version": "3.12.3"
  }
 },
 "nbformat": 4,
 "nbformat_minor": 5
}
