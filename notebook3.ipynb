{
 "cells": [
  {
   "cell_type": "code",
   "execution_count": 10,
   "id": "ab514db1-fddb-43c3-b319-c2fef9c62fe0",
   "metadata": {},
   "outputs": [],
   "source": [
    "import ipywidgets as widgets\n",
    "from IPython.display import display, Javascript, Markdown, clear_output"
   ]
  },
  {
   "cell_type": "code",
   "execution_count": 19,
   "id": "2761e6a1",
   "metadata": {},
   "outputs": [],
   "source": [
    "# Image Widget\n",
    "\n",
    "file = open(\"logo.png\", \"rb\")\n",
    "image = file.read()\n",
    "\n",
    "image_headline = widgets.Image(\n",
    "                    value=image,\n",
    "                    format='jpg',\n",
    "                    width='200'\n",
    "                )\n",
    "\n",
    "label_headline = widgets.Label(\n",
    "                    value='',\n",
    "                    style={'description_width': 'initial'}\n",
    "                )\n",
    "\n",
    "vbox_headline = widgets.VBox([image_headline, label_headline])"
   ]
  },
  {
   "cell_type": "code",
   "execution_count": 11,
   "id": "772aa998",
   "metadata": {},
   "outputs": [],
   "source": [
    "# Question 3\n",
    "question3 = \"Which planet is known as the Red Planet?\"\n",
    "options3 = [\"Earth\", \"Jupiter\", \"Mars\", \"Saturn\"]"
   ]
  },
  {
   "cell_type": "code",
   "execution_count": 12,
   "id": "ec5ae900",
   "metadata": {},
   "outputs": [],
   "source": [
    "# Display question and options as widgets\n",
    "question_widget3 = widgets.HTML(value=f\"<h3>{question3}</h3>\")\n",
    "options_widget3 = widgets.RadioButtons(options=options3, layout={'width': 'max-content'})"
   ]
  },
  {
   "cell_type": "code",
   "execution_count": 13,
   "id": "1a5989eb",
   "metadata": {},
   "outputs": [],
   "source": [
    "# Create a button to go to the next question--------\n",
    "next_button = widgets.Button(description=\"Submit\")"
   ]
  },
  {
   "cell_type": "code",
   "execution_count": 14,
   "id": "341760e6",
   "metadata": {},
   "outputs": [],
   "source": [
    "# choice = widgets.Text(description = \"selected: \")"
   ]
  },
  {
   "cell_type": "code",
   "execution_count": 17,
   "id": "ca942043",
   "metadata": {},
   "outputs": [],
   "source": [
    "output = widgets.Output()\n",
    "def on_button_clicked(event):\n",
    "    with output:\n",
    "        clear_output()\n",
    "        global selected_option3\n",
    "        link = \"Submit your answer for next question\"\n",
    "        selected_option3 = options_widget3.value\n",
    "        # choice widget was used to validate the value storing\n",
    "#         if not selected_option3:\n",
    "#             choice.value = \"Not selected\"\n",
    "#         else:\n",
    "#             choice.value = selected_option3\n",
    "\n",
    "        # as this is the last page, no further linking for options is needed. generate single link for summary page\n",
    "#         if selected_option3 == \"Earth\":\n",
    "#             link = Markdown(\"[Next](notebook2.ipynb)\")\n",
    "#             # display(Javascript('window.location.href = \"dummy2.ipynb\";'))\n",
    "#         elif selected_option3 == \"Jupiter\":\n",
    "#             link = Markdown(\"[Next](notebook3.ipynb)\")\n",
    "#             # display(Javascript('window.location.href = \"dummy3.ipynb\";'))\n",
    "#         elif selected_option3 == \"Mars\":\n",
    "#             link = Markdown(\"[Next](https://www.google.com)\")\n",
    "#             # display(Javascript('window.location.href = \"https://www.google.com\";'))\n",
    "#         elif selected_option3 == \"Saturn\":\n",
    "#             link = Markdown(\"[Next](https://voila.readthedocs.io/en/stable/deploy.html)\")\n",
    "        link = Markdown(\"[End](notebook4.ipynb)\")\n",
    "        %store selected_option3\n",
    "        display(link)\n",
    "        \n",
    "next_button.on_click(on_button_clicked)\n",
    "# vbox_result = widgets.VBox([question_widget3, options_widget3, next_button, output])"
   ]
  },
  {
   "cell_type": "code",
   "execution_count": 20,
   "id": "a504d37c",
   "metadata": {},
   "outputs": [],
   "source": [
    "# display(vbox_result)"
   ]
  },
  {
   "cell_type": "code",
   "execution_count": 21,
   "id": "70a19670",
   "metadata": {},
   "outputs": [
    {
     "data": {
      "application/vnd.jupyter.widget-view+json": {
       "model_id": "2c42882043bb4a459af4a09ac0d6d36e",
       "version_major": 2,
       "version_minor": 0
      },
      "text/plain": [
       "VBox(children=(Image(value=b'\\x89PNG\\r\\n\\x1a\\n\\x00\\x00\\x00\\rIHDR\\x00\\x00\\x01\\xfb\\x00\\x00\\x01|\\x08\\x06\\x00\\x00\\…"
      ]
     },
     "metadata": {},
     "output_type": "display_data"
    },
    {
     "data": {
      "application/vnd.jupyter.widget-view+json": {
       "model_id": "fe8060669a5b4a6f9d07f87bc20a1415",
       "version_major": 2,
       "version_minor": 0
      },
      "text/plain": [
       "VBox(children=(HTML(value='<h3>Which planet is known as the Red Planet?</h3>'), RadioButtons(index=1, layout=L…"
      ]
     },
     "metadata": {},
     "output_type": "display_data"
    }
   ],
   "source": [
    "# Apply center alignment using CSS styling to the container\n",
    "container = widgets.VBox(children=[question_widget3, options_widget3, next_button, output], layout=widgets.Layout(\n",
    "    align_items='center'  # Center align vertically\n",
    "#     justify_content='center',  # Center align horizontally\n",
    "#     height='100vh'  # Set height to 100% of viewport height for vertical centering\n",
    "))\n",
    "# Display the container\n",
    "display(vbox_headline)\n",
    "display(container)"
   ]
  },
  {
   "cell_type": "code",
   "execution_count": null,
   "id": "e6082538",
   "metadata": {},
   "outputs": [],
   "source": []
  }
 ],
 "metadata": {
  "kernelspec": {
   "display_name": "Python 3 (ipykernel)",
   "language": "python",
   "name": "python3"
  },
  "language_info": {
   "codemirror_mode": {
    "name": "ipython",
    "version": 3
   },
   "file_extension": ".py",
   "mimetype": "text/x-python",
   "name": "python",
   "nbconvert_exporter": "python",
   "pygments_lexer": "ipython3",
   "version": "3.12.3"
  }
 },
 "nbformat": 4,
 "nbformat_minor": 5
}
