{
 "cells": [
  {
   "cell_type": "code",
   "execution_count": 20,
   "id": "6b490635",
   "metadata": {},
   "outputs": [],
   "source": [
    "import ipywidgets as widgets\n",
    "from IPython.display import display, Javascript, Markdown, clear_output, HTML"
   ]
  },
  {
   "cell_type": "code",
   "execution_count": 21,
   "id": "90d2ce8e",
   "metadata": {},
   "outputs": [],
   "source": [
    "choice1 = widgets.Text(description = \"answer1: \")\n",
    "choice2 = widgets.Text(description = \"answer2: \")\n",
    "choice3 = widgets.Text(description = \"answer3: \")"
   ]
  },
  {
   "cell_type": "code",
   "execution_count": 22,
   "id": "c333a7b9",
   "metadata": {},
   "outputs": [],
   "source": [
    "%store -r selected_option1\n",
    "%store -r selected_option2\n",
    "%store -r selected_option3"
   ]
  },
  {
   "cell_type": "code",
   "execution_count": 23,
   "id": "697c193d",
   "metadata": {},
   "outputs": [],
   "source": [
    "choice1.value = selected_option1\n",
    "choice2.value = selected_option2\n",
    "choice3.value = selected_option3"
   ]
  },
  {
   "cell_type": "code",
   "execution_count": 24,
   "id": "c5b4d142",
   "metadata": {},
   "outputs": [],
   "source": [
    "summary = widgets.VBox([choice1, choice2, choice3])"
   ]
  },
  {
   "cell_type": "code",
   "execution_count": 25,
   "id": "883d3d50",
   "metadata": {},
   "outputs": [
    {
     "data": {
      "application/vnd.jupyter.widget-view+json": {
       "model_id": "cd24aa430ab54f1cb002e30f20ff7b2a",
       "version_major": 2,
       "version_minor": 0
      },
      "text/plain": [
       "VBox(children=(Text(value='Berlin', description='answer1: '), Text(value='Blue Whale', description='answer2: '…"
      ]
     },
     "metadata": {},
     "output_type": "display_data"
    }
   ],
   "source": [
    "display(summary)"
   ]
  },
  {
   "cell_type": "code",
   "execution_count": null,
   "id": "8a75b3df",
   "metadata": {},
   "outputs": [],
   "source": []
  }
 ],
 "metadata": {
  "kernelspec": {
   "display_name": "Python 3 (ipykernel)",
   "language": "python",
   "name": "python3"
  },
  "language_info": {
   "codemirror_mode": {
    "name": "ipython",
    "version": 3
   },
   "file_extension": ".py",
   "mimetype": "text/x-python",
   "name": "python",
   "nbconvert_exporter": "python",
   "pygments_lexer": "ipython3",
   "version": "3.12.3"
  }
 },
 "nbformat": 4,
 "nbformat_minor": 5
}
