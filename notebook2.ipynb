{
 "cells": [
  {
   "cell_type": "code",
   "execution_count": 10,
   "id": "66ed741d",
   "metadata": {},
   "outputs": [],
   "source": [
    "import ipywidgets as widgets\n",
    "from IPython.display import display, Javascript, Markdown, clear_output"
   ]
  },
  {
   "cell_type": "code",
   "execution_count": 11,
   "id": "13557dd0",
   "metadata": {},
   "outputs": [],
   "source": [
    "# Image Widget\n",
    "\n",
    "file = open(\"logo.png\", \"rb\")\n",
    "image = file.read()\n",
    "\n",
    "image_headline = widgets.Image(\n",
    "                    value=image,\n",
    "                    format='jpg',\n",
    "                    width='200'\n",
    "                )\n",
    "\n",
    "label_headline = widgets.Label(\n",
    "                    value='',\n",
    "                    style={'description_width': 'initial'}\n",
    "                )\n",
    "\n",
    "vbox_headline = widgets.VBox([image_headline, label_headline])"
   ]
  },
  {
   "cell_type": "code",
   "execution_count": 12,
   "id": "2c4227bf",
   "metadata": {},
   "outputs": [],
   "source": [
    "question2 = \"What is the largest mammal?\"\n",
    "options2 = [\"Elephant\", \"Blue Whale\", \"Giraffe\", \"Polar Bear\"]"
   ]
  },
  {
   "cell_type": "code",
   "execution_count": 13,
   "id": "4ce9a00e",
   "metadata": {},
   "outputs": [],
   "source": [
    "# Display question and options as widgets-------\n",
    "question_widget2 = widgets.HTML(value=f\"<h3>{question2}</h3>\")\n",
    "options_widget2 = widgets.RadioButtons(options=options2, value = None, layout={'width': 'max-content'})"
   ]
  },
  {
   "cell_type": "code",
   "execution_count": 14,
   "id": "f5ade430",
   "metadata": {},
   "outputs": [],
   "source": [
    "# Create a button to go to the next question--------\n",
    "next_button = widgets.Button(description=\"Submit\")"
   ]
  },
  {
   "cell_type": "code",
   "execution_count": 15,
   "id": "4ab32254",
   "metadata": {},
   "outputs": [],
   "source": [
    "# choice = widgets.Text(description = \"selected: \")"
   ]
  },
  {
   "cell_type": "code",
   "execution_count": 19,
   "id": "462d62e1",
   "metadata": {},
   "outputs": [],
   "source": [
    "output = widgets.Output()\n",
    "def on_button_clicked(event):\n",
    "    with output:\n",
    "        clear_output()\n",
    "        global selected_option2\n",
    "        link = \"Submit your answer for next question\"\n",
    "        selected_option2 = options_widget2.value\n",
    "        # choice widget was used to validate the value storing\n",
    "#         if not selected_option2:\n",
    "# #             %store -r selected_option1\n",
    "#             choice.value = \"Not selected\"\n",
    "#         else:\n",
    "#             choice.value = selected_option2\n",
    "        if selected_option2 == \"Elephant\":\n",
    "            link = Markdown('''<a href=\"notebook2.ipynb\" target=\"_self\" rel=\"noopener noreferrer\"> \n",
    "                                    Next \n",
    "                            </a>''')\n",
    "            # display(Javascript('window.location.href = \"dummy2.ipynb\";'))\n",
    "        elif selected_option2 == \"Blue Whale\":\n",
    "            link = Markdown('''<a href=\"notebook3.ipynb\" target=\"_self\" rel=\"noopener noreferrer\"> \n",
    "                                    Next \n",
    "                            </a>''')\n",
    "            # display(Javascript('window.location.href = \"dummy3.ipynb\";'))\n",
    "        elif selected_option2 == \"Giraffe\":\n",
    "            link = Markdown('''<a href=\"https://www.google.com\" target=\"_self\" rel=\"noopener noreferrer\"> \n",
    "                                    Next \n",
    "                            </a>''')\n",
    "            # display(Javascript('window.location.href = \"https://www.google.com\";'))\n",
    "        elif selected_option2 == \"Polar Bear\":\n",
    "            link = Markdown('''<a href=\"https://voila.readthedocs.io/en/stable/deploy.html\" target=\"_self\" rel=\"noopener noreferrer\"> \n",
    "                                    Next \n",
    "                            </a>''')\n",
    "        %store selected_option2\n",
    "        display(link)\n",
    "        \n",
    "next_button.on_click(on_button_clicked)\n",
    "# vbox_result = widgets.VBox([question_widget2, options_widget2, next_button, output])"
   ]
  },
  {
   "cell_type": "code",
   "execution_count": 17,
   "id": "6189f86e",
   "metadata": {},
   "outputs": [],
   "source": [
    "# display(vbox_result)"
   ]
  },
  {
   "cell_type": "code",
   "execution_count": 18,
   "id": "dc10f247",
   "metadata": {},
   "outputs": [
    {
     "data": {
      "application/vnd.jupyter.widget-view+json": {
       "model_id": "ce4118b7528b4ab586986183ba9f706d",
       "version_major": 2,
       "version_minor": 0
      },
      "text/plain": [
       "VBox(children=(Image(value=b'\\x89PNG\\r\\n\\x1a\\n\\x00\\x00\\x00\\rIHDR\\x00\\x00\\x01\\xfb\\x00\\x00\\x01|\\x08\\x06\\x00\\x00\\…"
      ]
     },
     "metadata": {},
     "output_type": "display_data"
    },
    {
     "data": {
      "application/vnd.jupyter.widget-view+json": {
       "model_id": "4c02b5ec85684a1c81c90b074a8290c0",
       "version_major": 2,
       "version_minor": 0
      },
      "text/plain": [
       "VBox(children=(HTML(value='<h3>What is the largest mammal?</h3>'), RadioButtons(layout=Layout(width='max-conte…"
      ]
     },
     "metadata": {},
     "output_type": "display_data"
    }
   ],
   "source": [
    "# Apply center alignment using CSS styling to the container\n",
    "container = widgets.VBox(children=[question_widget2, options_widget2, next_button, output], layout=widgets.Layout(\n",
    "    align_items='center'  # Center align vertically\n",
    "#     justify_content='center',  # Center align horizontally\n",
    "#     height='100vh'  # Set height to 100% of viewport height for vertical centering\n",
    "))\n",
    "# Display the container\n",
    "display(vbox_headline)\n",
    "display(container)"
   ]
  },
  {
   "cell_type": "code",
   "execution_count": null,
   "id": "9fbb8f5d",
   "metadata": {},
   "outputs": [],
   "source": []
  }
 ],
 "metadata": {
  "kernelspec": {
   "display_name": "Python 3 (ipykernel)",
   "language": "python",
   "name": "python3"
  },
  "language_info": {
   "codemirror_mode": {
    "name": "ipython",
    "version": 3
   },
   "file_extension": ".py",
   "mimetype": "text/x-python",
   "name": "python",
   "nbconvert_exporter": "python",
   "pygments_lexer": "ipython3",
   "version": "3.12.3"
  }
 },
 "nbformat": 4,
 "nbformat_minor": 5
}
